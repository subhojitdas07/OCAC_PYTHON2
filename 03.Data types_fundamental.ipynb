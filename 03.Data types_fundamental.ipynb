{
 "cells": [
  {
   "cell_type": "code",
   "execution_count": 1,
   "id": "8765315a-da82-42cf-b09c-fe4e8c95d87f",
   "metadata": {},
   "outputs": [],
   "source": [
    "a=20"
   ]
  },
  {
   "cell_type": "code",
   "execution_count": 2,
   "id": "cbb00eba-dd8a-49a8-a779-bd65c61d5683",
   "metadata": {},
   "outputs": [
    {
     "data": {
      "text/plain": [
       "int"
      ]
     },
     "execution_count": 2,
     "metadata": {},
     "output_type": "execute_result"
    }
   ],
   "source": [
    "type(a)"
   ]
  },
  {
   "cell_type": "code",
   "execution_count": 3,
   "id": "8fe0fca6-955a-471c-a226-860c5bc49846",
   "metadata": {},
   "outputs": [
    {
     "data": {
      "text/plain": [
       "float"
      ]
     },
     "execution_count": 3,
     "metadata": {},
     "output_type": "execute_result"
    }
   ],
   "source": [
    "a=12.0\n",
    "type(a)"
   ]
  },
  {
   "cell_type": "code",
   "execution_count": 4,
   "id": "00662a0a-9aa9-41d2-820f-2ee04de8625a",
   "metadata": {},
   "outputs": [
    {
     "name": "stdout",
     "output_type": "stream",
     "text": [
      "<class 'int'>\n",
      "<class 'float'>\n"
     ]
    }
   ],
   "source": [
    "a=4\n",
    "print(type(a))\n",
    "\n",
    "b=4.0\n",
    "print(type(b))"
   ]
  },
  {
   "cell_type": "code",
   "execution_count": 5,
   "id": "5399d82a-c1f6-459e-b23e-12ed43b527cf",
   "metadata": {},
   "outputs": [
    {
     "data": {
      "text/plain": [
       "3.0"
      ]
     },
     "execution_count": 5,
     "metadata": {},
     "output_type": "execute_result"
    }
   ],
   "source": [
    "a=1\n",
    "b=2.0\n",
    "a+b"
   ]
  },
  {
   "cell_type": "code",
   "execution_count": 6,
   "id": "554ddade-0a4f-4a23-b701-44626a0dba8d",
   "metadata": {},
   "outputs": [
    {
     "data": {
      "text/plain": [
       "6"
      ]
     },
     "execution_count": 6,
     "metadata": {},
     "output_type": "execute_result"
    }
   ],
   "source": [
    "b=6.7\n",
    "int(b)"
   ]
  },
  {
   "cell_type": "code",
   "execution_count": 7,
   "id": "c0e15356-f29f-4baf-80ef-aeeec063e4b2",
   "metadata": {},
   "outputs": [
    {
     "data": {
      "text/plain": [
       "11"
      ]
     },
     "execution_count": 7,
     "metadata": {},
     "output_type": "execute_result"
    }
   ],
   "source": [
    "int(11.99999)"
   ]
  },
  {
   "cell_type": "code",
   "execution_count": 11,
   "id": "5c7718df-6abb-4068-86ce-4d6a61607e2c",
   "metadata": {},
   "outputs": [
    {
     "data": {
      "text/plain": [
       "bool"
      ]
     },
     "execution_count": 11,
     "metadata": {},
     "output_type": "execute_result"
    }
   ],
   "source": [
    "b1 = True\n",
    "type(b1)"
   ]
  },
  {
   "cell_type": "code",
   "execution_count": 13,
   "id": "1228bc99-f617-47fd-946c-303fdbbe1ffd",
   "metadata": {},
   "outputs": [
    {
     "data": {
      "text/plain": [
       "bool"
      ]
     },
     "execution_count": 13,
     "metadata": {},
     "output_type": "execute_result"
    }
   ],
   "source": [
    "type(True)"
   ]
  },
  {
   "cell_type": "code",
   "execution_count": 15,
   "id": "ce9ab6c4-c0dd-4254-8eda-8b2903bd7a5e",
   "metadata": {},
   "outputs": [
    {
     "data": {
      "text/plain": [
       "bool"
      ]
     },
     "execution_count": 15,
     "metadata": {},
     "output_type": "execute_result"
    }
   ],
   "source": [
    "type(False)"
   ]
  },
  {
   "cell_type": "code",
   "execution_count": 17,
   "id": "fb6e9a54-a1de-4a64-bd3c-8857c5949310",
   "metadata": {},
   "outputs": [
    {
     "data": {
      "text/plain": [
       "1"
      ]
     },
     "execution_count": 17,
     "metadata": {},
     "output_type": "execute_result"
    }
   ],
   "source": [
    "int(True)"
   ]
  },
  {
   "cell_type": "code",
   "execution_count": 18,
   "id": "9474391e-9060-42d6-80a1-1853995f4ed2",
   "metadata": {},
   "outputs": [
    {
     "data": {
      "text/plain": [
       "0"
      ]
     },
     "execution_count": 18,
     "metadata": {},
     "output_type": "execute_result"
    }
   ],
   "source": [
    "int(False)"
   ]
  },
  {
   "cell_type": "code",
   "execution_count": 20,
   "id": "6789abdd-2f43-4a29-a152-a428e0795429",
   "metadata": {},
   "outputs": [
    {
     "data": {
      "text/plain": [
       "2"
      ]
     },
     "execution_count": 20,
     "metadata": {},
     "output_type": "execute_result"
    }
   ],
   "source": [
    "True+True"
   ]
  },
  {
   "cell_type": "code",
   "execution_count": 23,
   "id": "900841bf-d5a5-4c6c-8c73-975d8be25510",
   "metadata": {},
   "outputs": [
    {
     "data": {
      "text/plain": [
       "4.5"
      ]
     },
     "execution_count": 23,
     "metadata": {},
     "output_type": "execute_result"
    }
   ],
   "source": [
    "b=4.5\n",
    "c=False\n",
    "b+c"
   ]
  },
  {
   "cell_type": "code",
   "execution_count": 24,
   "id": "90032d7e-edcf-41db-8f56-ed61197361b8",
   "metadata": {},
   "outputs": [],
   "source": [
    "x=22+33j"
   ]
  },
  {
   "cell_type": "code",
   "execution_count": 26,
   "id": "746e07cd-93ed-4631-a8b2-a39959bb3963",
   "metadata": {},
   "outputs": [
    {
     "data": {
      "text/plain": [
       "complex"
      ]
     },
     "execution_count": 26,
     "metadata": {},
     "output_type": "execute_result"
    }
   ],
   "source": [
    "type(x)"
   ]
  },
  {
   "cell_type": "raw",
   "id": "a2de49a2-d448-4516-93f6-82b4ab654fdd",
   "metadata": {},
   "source": [
    "x.imag"
   ]
  },
  {
   "cell_type": "code",
   "execution_count": 27,
   "id": "34d24b34-80c3-4a7e-9082-6ec6acf5736f",
   "metadata": {},
   "outputs": [
    {
     "data": {
      "text/plain": [
       "33"
      ]
     },
     "execution_count": 27,
     "metadata": {},
     "output_type": "execute_result"
    }
   ],
   "source": [
    "int(x.imag)"
   ]
  },
  {
   "cell_type": "code",
   "execution_count": 28,
   "id": "efc6cc31-a372-4af5-9c9b-bca9ecdf6b9d",
   "metadata": {},
   "outputs": [
    {
     "name": "stdout",
     "output_type": "stream",
     "text": [
      "2.0 -3.0\n"
     ]
    }
   ],
   "source": [
    "y=2.0 - 3.0j\n",
    "print(y.real,y.imag)"
   ]
  },
  {
   "cell_type": "code",
   "execution_count": 29,
   "id": "e72e4a41-8374-431b-9307-18411c3dcc2e",
   "metadata": {},
   "outputs": [
    {
     "name": "stdout",
     "output_type": "stream",
     "text": [
      "hey\n",
      "hey\n",
      "hey\n"
     ]
    }
   ],
   "source": [
    "mystring1='hey'\n",
    "print(mystring1)\n",
    "\n",
    "mystring2 =\"hey\"\n",
    "print(mystring2)\n",
    "\n",
    "mystring3='''hey'''\n",
    "print(mystring3)"
   ]
  },
  {
   "cell_type": "code",
   "execution_count": 30,
   "id": "8102e314-4079-4a54-ab40-68395c472eab",
   "metadata": {},
   "outputs": [
    {
     "data": {
      "text/plain": [
       "str"
      ]
     },
     "execution_count": 30,
     "metadata": {},
     "output_type": "execute_result"
    }
   ],
   "source": [
    "a='batman'\n",
    "type(a)"
   ]
  },
  {
   "cell_type": "code",
   "execution_count": 31,
   "id": "ca57525a-656e-494b-86c9-608c66b27080",
   "metadata": {},
   "outputs": [
    {
     "ename": "ValueError",
     "evalue": "invalid literal for int() with base 10: 'batman'",
     "output_type": "error",
     "traceback": [
      "\u001b[1;31m---------------------------------------------------------------------------\u001b[0m",
      "\u001b[1;31mValueError\u001b[0m                                Traceback (most recent call last)",
      "Cell \u001b[1;32mIn[31], line 1\u001b[0m\n\u001b[1;32m----> 1\u001b[0m \u001b[38;5;28mint\u001b[39m(a)\n",
      "\u001b[1;31mValueError\u001b[0m: invalid literal for int() with base 10: 'batman'"
     ]
    }
   ],
   "source": [
    "int(a)"
   ]
  },
  {
   "cell_type": "code",
   "execution_count": 32,
   "id": "e9b06085-f3ab-488d-a11f-17d28ba52f3d",
   "metadata": {},
   "outputs": [
    {
     "data": {
      "text/plain": [
       "str"
      ]
     },
     "execution_count": 32,
     "metadata": {},
     "output_type": "execute_result"
    }
   ],
   "source": [
    "type(\"batman\")"
   ]
  },
  {
   "cell_type": "code",
   "execution_count": 33,
   "id": "b23b5f7e-5869-4462-bdb7-ae6a30355e61",
   "metadata": {},
   "outputs": [
    {
     "data": {
      "text/plain": [
       "str"
      ]
     },
     "execution_count": 33,
     "metadata": {},
     "output_type": "execute_result"
    }
   ],
   "source": [
    "var=\"123123\"\n",
    "type(var)"
   ]
  },
  {
   "cell_type": "code",
   "execution_count": 34,
   "id": "b8fa39a4-a94a-45fe-8bfe-63cb0cc958a6",
   "metadata": {},
   "outputs": [
    {
     "data": {
      "text/plain": [
       "'123123'"
      ]
     },
     "execution_count": 34,
     "metadata": {},
     "output_type": "execute_result"
    }
   ],
   "source": [
    "var"
   ]
  },
  {
   "cell_type": "code",
   "execution_count": 36,
   "id": "c8e8d4c9-ff9f-4709-8d92-cb36ae50111b",
   "metadata": {},
   "outputs": [
    {
     "data": {
      "text/plain": [
       "123123"
      ]
     },
     "execution_count": 36,
     "metadata": {},
     "output_type": "execute_result"
    }
   ],
   "source": [
    "z=int(var)\n",
    "z"
   ]
  },
  {
   "cell_type": "code",
   "execution_count": 37,
   "id": "a9400326-0ffd-434c-9c5c-0b66fd9bd2f9",
   "metadata": {},
   "outputs": [
    {
     "data": {
      "text/plain": [
       "'subho@1212'"
      ]
     },
     "execution_count": 37,
     "metadata": {},
     "output_type": "execute_result"
    }
   ],
   "source": [
    "a='subho@1212'\n",
    "a"
   ]
  },
  {
   "cell_type": "code",
   "execution_count": 38,
   "id": "2dd0c9f4-6b1c-4b6b-a5c7-fbc92373b129",
   "metadata": {},
   "outputs": [
    {
     "ename": "ValueError",
     "evalue": "invalid literal for int() with base 10: 'subho@1212'",
     "output_type": "error",
     "traceback": [
      "\u001b[1;31m---------------------------------------------------------------------------\u001b[0m",
      "\u001b[1;31mValueError\u001b[0m                                Traceback (most recent call last)",
      "Cell \u001b[1;32mIn[38], line 1\u001b[0m\n\u001b[1;32m----> 1\u001b[0m \u001b[38;5;28mint\u001b[39m(a)\n",
      "\u001b[1;31mValueError\u001b[0m: invalid literal for int() with base 10: 'subho@1212'"
     ]
    }
   ],
   "source": [
    "int(a)"
   ]
  },
  {
   "cell_type": "code",
   "execution_count": 41,
   "id": "58b93ed0-b3e8-40c3-932e-d1f16c9c4bd7",
   "metadata": {},
   "outputs": [],
   "source": [
    "a='4834'"
   ]
  },
  {
   "cell_type": "code",
   "execution_count": 42,
   "id": "0adfb710-e9d8-4664-b2db-25243d765a00",
   "metadata": {},
   "outputs": [
    {
     "data": {
      "text/plain": [
       "4834"
      ]
     },
     "execution_count": 42,
     "metadata": {},
     "output_type": "execute_result"
    }
   ],
   "source": [
    "int(a)"
   ]
  },
  {
   "cell_type": "code",
   "execution_count": 43,
   "id": "f9aa3633-e96a-45e4-b40a-4cc0c1718b1d",
   "metadata": {},
   "outputs": [
    {
     "name": "stdout",
     "output_type": "stream",
     "text": [
      "banty\"laptop\"\n"
     ]
    }
   ],
   "source": [
    "print('banty\"laptop\"')"
   ]
  },
  {
   "cell_type": "code",
   "execution_count": 44,
   "id": "9569adac-c704-4f99-a913-973d59481a74",
   "metadata": {},
   "outputs": [
    {
     "ename": "SyntaxError",
     "evalue": "unterminated string literal (detected at line 1) (4205901403.py, line 1)",
     "output_type": "error",
     "traceback": [
      "\u001b[1;36m  Cell \u001b[1;32mIn[44], line 1\u001b[1;36m\u001b[0m\n\u001b[1;33m    print('banty's \"laptop\"')\u001b[0m\n\u001b[1;37m                           ^\u001b[0m\n\u001b[1;31mSyntaxError\u001b[0m\u001b[1;31m:\u001b[0m unterminated string literal (detected at line 1)\n"
     ]
    }
   ],
   "source": [
    "print('banty's \"laptop\"')"
   ]
  },
  {
   "cell_type": "code",
   "execution_count": 45,
   "id": "85a2250e-6f62-4a8c-ab55-fa57150569ca",
   "metadata": {},
   "outputs": [
    {
     "name": "stdout",
     "output_type": "stream",
     "text": [
      "banty's\"laptop\"\n"
     ]
    }
   ],
   "source": [
    "print('banty\\'s\"laptop\"')"
   ]
  },
  {
   "cell_type": "code",
   "execution_count": 46,
   "id": "1fc614c0-e680-4f9b-9b49-b307aeb5cdec",
   "metadata": {},
   "outputs": [
    {
     "data": {
      "text/plain": [
       "'304'"
      ]
     },
     "execution_count": 46,
     "metadata": {},
     "output_type": "execute_result"
    }
   ],
   "source": [
    "a=\"30\"\n",
    "b=\"4\"\n",
    "a+b"
   ]
  },
  {
   "cell_type": "code",
   "execution_count": 47,
   "id": "933abf58-9285-4a79-9a1a-6d5a116e82d5",
   "metadata": {},
   "outputs": [
    {
     "data": {
      "text/plain": [
       "304"
      ]
     },
     "execution_count": 47,
     "metadata": {},
     "output_type": "execute_result"
    }
   ],
   "source": [
    "int(a+b)"
   ]
  },
  {
   "cell_type": "code",
   "execution_count": 49,
   "id": "449321bb-7723-4add-b339-4f9e57f2a1b4",
   "metadata": {},
   "outputs": [
    {
     "data": {
      "text/plain": [
       "34"
      ]
     },
     "execution_count": 49,
     "metadata": {},
     "output_type": "execute_result"
    }
   ],
   "source": [
    "int(a)+int(b)"
   ]
  },
  {
   "cell_type": "code",
   "execution_count": 50,
   "id": "3c8b6a3e-394e-4c2d-99f3-c0fe5148ea61",
   "metadata": {},
   "outputs": [
    {
     "ename": "TypeError",
     "evalue": "unsupported operand type(s) for +: 'int' and 'str'",
     "output_type": "error",
     "traceback": [
      "\u001b[1;31m---------------------------------------------------------------------------\u001b[0m",
      "\u001b[1;31mTypeError\u001b[0m                                 Traceback (most recent call last)",
      "Cell \u001b[1;32mIn[50], line 3\u001b[0m\n\u001b[0;32m      1\u001b[0m d\u001b[38;5;241m=\u001b[39m\u001b[38;5;124m'\u001b[39m\u001b[38;5;124m4\u001b[39m\u001b[38;5;124m'\u001b[39m\n\u001b[0;32m      2\u001b[0m a\u001b[38;5;241m=\u001b[39m\u001b[38;5;241m4\u001b[39m\n\u001b[1;32m----> 3\u001b[0m a\u001b[38;5;241m+\u001b[39md\n",
      "\u001b[1;31mTypeError\u001b[0m: unsupported operand type(s) for +: 'int' and 'str'"
     ]
    }
   ],
   "source": [
    "d='4'\n",
    "a=4\n",
    "a+d"
   ]
  },
  {
   "cell_type": "code",
   "execution_count": 51,
   "id": "b0787a52-b194-4fcc-b28d-bbce5da8d19b",
   "metadata": {},
   "outputs": [
    {
     "data": {
      "text/plain": [
       "8"
      ]
     },
     "execution_count": 51,
     "metadata": {},
     "output_type": "execute_result"
    }
   ],
   "source": [
    "int(d)+a"
   ]
  },
  {
   "cell_type": "code",
   "execution_count": 52,
   "id": "e7f400b7-9302-48c7-a4fe-dc2d6544eff1",
   "metadata": {},
   "outputs": [
    {
     "data": {
      "text/plain": [
       "44"
      ]
     },
     "execution_count": 52,
     "metadata": {},
     "output_type": "execute_result"
    }
   ],
   "source": [
    "int(d+str(a))"
   ]
  },
  {
   "cell_type": "code",
   "execution_count": 53,
   "id": "f02b0686-a87a-4109-b8b9-f631de0045c2",
   "metadata": {},
   "outputs": [],
   "source": [
    "a=\"batman\"\n",
    "b=222"
   ]
  },
  {
   "cell_type": "code",
   "execution_count": 54,
   "id": "a3662f40-604c-449f-b0a1-1ea422f149b9",
   "metadata": {},
   "outputs": [
    {
     "name": "stdout",
     "output_type": "stream",
     "text": [
      "batman222\n"
     ]
    }
   ],
   "source": [
    "print(a+str(b))"
   ]
  },
  {
   "cell_type": "code",
   "execution_count": 55,
   "id": "315c0f05-fda5-4a9f-b2a1-afee7cbd721d",
   "metadata": {},
   "outputs": [
    {
     "data": {
      "text/plain": [
       "'batmanbatman'"
      ]
     },
     "execution_count": 55,
     "metadata": {},
     "output_type": "execute_result"
    }
   ],
   "source": [
    "'batman'+'batman'"
   ]
  },
  {
   "cell_type": "code",
   "execution_count": 56,
   "id": "2dcf5220-9b7d-47ea-815a-6327f11501e6",
   "metadata": {},
   "outputs": [
    {
     "data": {
      "text/plain": [
       "'batmanbatmanbatmanbatman'"
      ]
     },
     "execution_count": 56,
     "metadata": {},
     "output_type": "execute_result"
    }
   ],
   "source": [
    "\"batman\"*4"
   ]
  },
  {
   "cell_type": "code",
   "execution_count": 57,
   "id": "ac3e9ab9-6e3a-422c-838a-a2defc1042a9",
   "metadata": {},
   "outputs": [],
   "source": [
    "user=\"banty\"\n",
    "lines=122"
   ]
  },
  {
   "cell_type": "code",
   "execution_count": 64,
   "id": "1ae8a457-8bbf-4256-bd96-6127bb946d69",
   "metadata": {},
   "outputs": [
    {
     "name": "stdout",
     "output_type": "stream",
     "text": [
      "congratulation, banty ! you just wrote 122 lines of codes\n"
     ]
    }
   ],
   "source": [
    "print(\"congratulation,\",user,\"! you just wrote\",lines ,\"lines of codes\")"
   ]
  },
  {
   "cell_type": "code",
   "execution_count": 65,
   "id": "2bbd08ff-badc-4fbf-b8c1-89e0591bf7d0",
   "metadata": {},
   "outputs": [
    {
     "name": "stdout",
     "output_type": "stream",
     "text": [
      "congratulation,banty! you just wrote122lines os codes\n"
     ]
    }
   ],
   "source": [
    "print(\"congratulation,\"+user+\"! you just wrote\"+str(lines)+\"lines os codes\")"
   ]
  },
  {
   "cell_type": "code",
   "execution_count": 66,
   "id": "2d6c44cd-3d1e-481e-b27f-950a4c91dc59",
   "metadata": {},
   "outputs": [
    {
     "data": {
      "text/plain": [
       "23"
      ]
     },
     "execution_count": 66,
     "metadata": {},
     "output_type": "execute_result"
    }
   ],
   "source": [
    "d='this is not interesting'\n",
    "len(d)"
   ]
  },
  {
   "cell_type": "code",
   "execution_count": 67,
   "id": "d7e32bc4-1e6b-4b06-96d9-8ac30cfba19c",
   "metadata": {},
   "outputs": [
    {
     "ename": "NameError",
     "evalue": "name 'd' is not defined",
     "output_type": "error",
     "traceback": [
      "\u001b[1;31m---------------------------------------------------------------------------\u001b[0m",
      "\u001b[1;31mNameError\u001b[0m                                 Traceback (most recent call last)",
      "Cell \u001b[1;32mIn[67], line 2\u001b[0m\n\u001b[0;32m      1\u001b[0m \u001b[38;5;28;01mdel\u001b[39;00m d\n\u001b[1;32m----> 2\u001b[0m \u001b[38;5;28mprint\u001b[39m(d)\n",
      "\u001b[1;31mNameError\u001b[0m: name 'd' is not defined"
     ]
    }
   ],
   "source": [
    "del d\n",
    "print(d)"
   ]
  },
  {
   "cell_type": "code",
   "execution_count": 77,
   "id": "2ed85b82-074a-4d9c-815a-7b7635757f83",
   "metadata": {},
   "outputs": [],
   "source": [
    "myString =\"Hello\""
   ]
  },
  {
   "cell_type": "code",
   "execution_count": 78,
   "id": "8f70ea98-0359-45ce-ac09-ea1c2ebbf569",
   "metadata": {},
   "outputs": [
    {
     "name": "stdout",
     "output_type": "stream",
     "text": [
      "H\n"
     ]
    }
   ],
   "source": [
    "print(myString[0])"
   ]
  },
  {
   "cell_type": "code",
   "execution_count": 79,
   "id": "3ed9a19d-54a3-4301-b673-032ea22d2a86",
   "metadata": {},
   "outputs": [
    {
     "name": "stdout",
     "output_type": "stream",
     "text": [
      "o\n"
     ]
    }
   ],
   "source": [
    "print(myString[-1])"
   ]
  },
  {
   "cell_type": "code",
   "execution_count": 80,
   "id": "07d88b18-27cc-44c8-bf06-837ff1cae2dc",
   "metadata": {},
   "outputs": [
    {
     "name": "stdout",
     "output_type": "stream",
     "text": [
      "l\n"
     ]
    }
   ],
   "source": [
    "print(myString[-2])"
   ]
  },
  {
   "cell_type": "code",
   "execution_count": 81,
   "id": "adaca9f1-b223-40cb-a03e-0f450327ec76",
   "metadata": {},
   "outputs": [
    {
     "ename": "IndexError",
     "evalue": "string index out of range",
     "output_type": "error",
     "traceback": [
      "\u001b[1;31m---------------------------------------------------------------------------\u001b[0m",
      "\u001b[1;31mIndexError\u001b[0m                                Traceback (most recent call last)",
      "Cell \u001b[1;32mIn[81], line 1\u001b[0m\n\u001b[1;32m----> 1\u001b[0m \u001b[38;5;28mprint\u001b[39m(myString[\u001b[38;5;241m6\u001b[39m])\n",
      "\u001b[1;31mIndexError\u001b[0m: string index out of range"
     ]
    }
   ],
   "source": [
    "print(myString[6])"
   ]
  },
  {
   "cell_type": "code",
   "execution_count": 82,
   "id": "855f4b05-63b9-4f2e-9d2f-82b7d344ecaa",
   "metadata": {},
   "outputs": [
    {
     "ename": "TypeError",
     "evalue": "string indices must be integers, not 'float'",
     "output_type": "error",
     "traceback": [
      "\u001b[1;31m---------------------------------------------------------------------------\u001b[0m",
      "\u001b[1;31mTypeError\u001b[0m                                 Traceback (most recent call last)",
      "Cell \u001b[1;32mIn[82], line 1\u001b[0m\n\u001b[1;32m----> 1\u001b[0m \u001b[38;5;28mprint\u001b[39m(myString[\u001b[38;5;241m1.4\u001b[39m])\n",
      "\u001b[1;31mTypeError\u001b[0m: string indices must be integers, not 'float'"
     ]
    }
   ],
   "source": [
    "print(myString[1.4])"
   ]
  },
  {
   "cell_type": "code",
   "execution_count": 83,
   "id": "148951d3-8b48-4990-8611-bfe9aaaaf0d3",
   "metadata": {},
   "outputs": [
    {
     "ename": "TypeError",
     "evalue": "'str' object does not support item assignment",
     "output_type": "error",
     "traceback": [
      "\u001b[1;31m---------------------------------------------------------------------------\u001b[0m",
      "\u001b[1;31mTypeError\u001b[0m                                 Traceback (most recent call last)",
      "Cell \u001b[1;32mIn[83], line 2\u001b[0m\n\u001b[0;32m      1\u001b[0m myString\u001b[38;5;241m=\u001b[39m\u001b[38;5;124m\"\u001b[39m\u001b[38;5;124mhello\u001b[39m\u001b[38;5;124m\"\u001b[39m\n\u001b[1;32m----> 2\u001b[0m myString[\u001b[38;5;241m4\u001b[39m]\u001b[38;5;241m=\u001b[39m\u001b[38;5;124m'\u001b[39m\u001b[38;5;124ms\u001b[39m\u001b[38;5;124m'\u001b[39m\n",
      "\u001b[1;31mTypeError\u001b[0m: 'str' object does not support item assignment"
     ]
    }
   ],
   "source": [
    "myString=\"hello\"\n",
    "myString[4]='s'"
   ]
  },
  {
   "cell_type": "code",
   "execution_count": 84,
   "id": "6f21a7cc-b5fd-4739-a1e3-4878342d1ec2",
   "metadata": {},
   "outputs": [
    {
     "name": "stdout",
     "output_type": "stream",
     "text": [
      "l\n"
     ]
    }
   ],
   "source": [
    "print(myString[3:4])"
   ]
  },
  {
   "cell_type": "code",
   "execution_count": 85,
   "id": "e59cc2f4-d5e0-4c8b-9af8-ba36583c9a4b",
   "metadata": {},
   "outputs": [
    {
     "name": "stdout",
     "output_type": "stream",
     "text": [
      "l\n"
     ]
    }
   ],
   "source": [
    "print(myString[2:3])"
   ]
  },
  {
   "cell_type": "code",
   "execution_count": 86,
   "id": "f13cf78c-a140-46a4-b53e-0b428289a7ec",
   "metadata": {},
   "outputs": [
    {
     "name": "stdout",
     "output_type": "stream",
     "text": [
      "hel\n"
     ]
    }
   ],
   "source": [
    "print(myString[0:3])"
   ]
  },
  {
   "cell_type": "code",
   "execution_count": 88,
   "id": "14a8c88d-a360-47b2-8dd0-0215bbde298d",
   "metadata": {},
   "outputs": [
    {
     "data": {
      "text/plain": [
       "'llo'"
      ]
     },
     "execution_count": 88,
     "metadata": {},
     "output_type": "execute_result"
    }
   ],
   "source": [
    "myString[2:]"
   ]
  },
  {
   "cell_type": "code",
   "execution_count": 89,
   "id": "cff8a54e-f138-4c81-89e2-0c29c0d9bcd2",
   "metadata": {},
   "outputs": [
    {
     "data": {
      "text/plain": [
       "'o'"
      ]
     },
     "execution_count": 89,
     "metadata": {},
     "output_type": "execute_result"
    }
   ],
   "source": [
    "myString[4:]"
   ]
  },
  {
   "cell_type": "code",
   "execution_count": 90,
   "id": "066725f9-8838-4a2c-93b7-6f12cb390ad0",
   "metadata": {},
   "outputs": [
    {
     "data": {
      "text/plain": [
       "'hello'"
      ]
     },
     "execution_count": 90,
     "metadata": {},
     "output_type": "execute_result"
    }
   ],
   "source": [
    "myString[:]"
   ]
  },
  {
   "cell_type": "code",
   "execution_count": 91,
   "id": "8eedf6c2-ffb4-4db1-8e2c-7087c7c012e1",
   "metadata": {},
   "outputs": [
    {
     "data": {
      "text/plain": [
       "'hello'"
      ]
     },
     "execution_count": 91,
     "metadata": {},
     "output_type": "execute_result"
    }
   ],
   "source": [
    "myString"
   ]
  },
  {
   "cell_type": "code",
   "execution_count": 92,
   "id": "c4137e1b-efff-462a-81d9-536e465ff0b2",
   "metadata": {},
   "outputs": [
    {
     "data": {
      "text/plain": [
       "''"
      ]
     },
     "execution_count": 92,
     "metadata": {},
     "output_type": "execute_result"
    }
   ],
   "source": [
    "myString[4:1]"
   ]
  },
  {
   "cell_type": "code",
   "execution_count": 93,
   "id": "1cbfb071-a473-4996-b3a5-177e5d4fe23f",
   "metadata": {},
   "outputs": [
    {
     "data": {
      "text/plain": [
       "'hlo'"
      ]
     },
     "execution_count": 93,
     "metadata": {},
     "output_type": "execute_result"
    }
   ],
   "source": [
    "myString[ : : 2]"
   ]
  },
  {
   "cell_type": "code",
   "execution_count": 94,
   "id": "921e1795-3e3b-4c0b-a73e-c547c1beef42",
   "metadata": {},
   "outputs": [
    {
     "data": {
      "text/plain": [
       "'oll'"
      ]
     },
     "execution_count": 94,
     "metadata": {},
     "output_type": "execute_result"
    }
   ],
   "source": [
    "myString[-1:-4:-1]"
   ]
  },
  {
   "cell_type": "code",
   "execution_count": 95,
   "id": "30838827-77cf-42e4-88c3-8121a8664a26",
   "metadata": {},
   "outputs": [
    {
     "data": {
      "text/plain": [
       "'olleh'"
      ]
     },
     "execution_count": 95,
     "metadata": {},
     "output_type": "execute_result"
    }
   ],
   "source": [
    "myString[::-1]"
   ]
  },
  {
   "cell_type": "code",
   "execution_count": 96,
   "id": "dddcd937-a782-47b5-a4ad-273d56e38701",
   "metadata": {},
   "outputs": [
    {
     "data": {
      "text/plain": [
       "'good morning'"
      ]
     },
     "execution_count": 96,
     "metadata": {},
     "output_type": "execute_result"
    }
   ],
   "source": [
    "'good morning'"
   ]
  },
  {
   "cell_type": "code",
   "execution_count": 97,
   "id": "09412bdc-7ec6-4d1a-ae8a-89eb57763529",
   "metadata": {},
   "outputs": [
    {
     "data": {
      "text/plain": [
       "'good morning'"
      ]
     },
     "execution_count": 97,
     "metadata": {},
     "output_type": "execute_result"
    }
   ],
   "source": [
    "\"good morning\""
   ]
  },
  {
   "cell_type": "code",
   "execution_count": 100,
   "id": "e59f9fd1-9d4d-4cc1-b894-0a6a13d62c8a",
   "metadata": {},
   "outputs": [
    {
     "data": {
      "text/plain": [
       "'Good morning'"
      ]
     },
     "execution_count": 100,
     "metadata": {},
     "output_type": "execute_result"
    }
   ],
   "source": [
    "\"good morning\".capitalize()"
   ]
  },
  {
   "cell_type": "code",
   "execution_count": 101,
   "id": "a8611dce-0893-46f9-a6f6-8d559752d4f0",
   "metadata": {},
   "outputs": [
    {
     "data": {
      "text/plain": [
       "'Good morning. welcome'"
      ]
     },
     "execution_count": 101,
     "metadata": {},
     "output_type": "execute_result"
    }
   ],
   "source": [
    "\"good morning. welcome\".capitalize()"
   ]
  },
  {
   "cell_type": "code",
   "execution_count": 104,
   "id": "908fd2be-2130-4d48-bc50-983fc9705e5e",
   "metadata": {},
   "outputs": [
    {
     "data": {
      "text/plain": [
       "'Good Morning'"
      ]
     },
     "execution_count": 104,
     "metadata": {},
     "output_type": "execute_result"
    }
   ],
   "source": [
    "a=\"gOOd moRning\"\n",
    "a.title()"
   ]
  },
  {
   "cell_type": "code",
   "execution_count": 105,
   "id": "cec1bf13-d529-48b2-9c5f-6d5f39c54fa2",
   "metadata": {},
   "outputs": [
    {
     "data": {
      "text/plain": [
       "'Good Morning'"
      ]
     },
     "execution_count": 105,
     "metadata": {},
     "output_type": "execute_result"
    }
   ],
   "source": [
    "\"gOOd moRning\".title()"
   ]
  },
  {
   "cell_type": "code",
   "execution_count": 106,
   "id": "5e68c42a-184c-4bc0-a4c4-39667a67d3e6",
   "metadata": {},
   "outputs": [
    {
     "data": {
      "text/plain": [
       "'GOOD MORNING'"
      ]
     },
     "execution_count": 106,
     "metadata": {},
     "output_type": "execute_result"
    }
   ],
   "source": [
    "a.upper()"
   ]
  },
  {
   "cell_type": "code",
   "execution_count": 108,
   "id": "f4188ef0-18bd-496b-baf2-a276b019218e",
   "metadata": {},
   "outputs": [
    {
     "data": {
      "text/plain": [
       "['hello', 'my', 'name', 'is', 'batman']"
      ]
     },
     "execution_count": 108,
     "metadata": {},
     "output_type": "execute_result"
    }
   ],
   "source": [
    "st ='hello my name is batman'\n",
    "st.split(' ')"
   ]
  },
  {
   "cell_type": "code",
   "execution_count": 110,
   "id": "c0c95301-dfaf-4ff4-9063-940d76a6db91",
   "metadata": {},
   "outputs": [
    {
     "data": {
      "text/plain": [
       "['Go sports ! ', ' sports']"
      ]
     },
     "execution_count": 110,
     "metadata": {},
     "output_type": "execute_result"
    }
   ],
   "source": [
    "tweet ='Go sports ! # sports'\n",
    "tweet.split('#')"
   ]
  },
  {
   "cell_type": "code",
   "execution_count": 114,
   "id": "155e7948-661b-4f68-a125-bdd20f8a7ec9",
   "metadata": {},
   "outputs": [
    {
     "data": {
      "text/plain": [
       "['This', 'will', 'split', 'all', 'words', 'in', 'a', 'list']"
      ]
     },
     "execution_count": 114,
     "metadata": {},
     "output_type": "execute_result"
    }
   ],
   "source": [
    "\"This will split all words in a list\".split()"
   ]
  },
  {
   "cell_type": "code",
   "execution_count": 115,
   "id": "8807ef45-1b0d-428a-acd8-6ae83fbd6d27",
   "metadata": {},
   "outputs": [
    {
     "data": {
      "text/plain": [
       "'This will split all words in a list'"
      ]
     },
     "execution_count": 115,
     "metadata": {},
     "output_type": "execute_result"
    }
   ],
   "source": [
    "' '.join(['This','will','split','all','words','in','a','list'])"
   ]
  },
  {
   "cell_type": "code",
   "execution_count": 116,
   "id": "adc473f0-9bf3-44cb-9825-0f86a411890d",
   "metadata": {},
   "outputs": [
    {
     "data": {
      "text/plain": [
       "-1"
      ]
     },
     "execution_count": 116,
     "metadata": {},
     "output_type": "execute_result"
    }
   ],
   "source": [
    "\"Good morning\".find(\"M\")"
   ]
  },
  {
   "cell_type": "code",
   "execution_count": 118,
   "id": "0c0a2a7d-e9fe-4350-85de-81783c6f1aeb",
   "metadata": {},
   "outputs": [
    {
     "data": {
      "text/plain": [
       "0"
      ]
     },
     "execution_count": 118,
     "metadata": {},
     "output_type": "execute_result"
    }
   ],
   "source": [
    "\"Good morning\".count(\"O\")"
   ]
  },
  {
   "cell_type": "code",
   "execution_count": 120,
   "id": "7f90f0ea-081a-4244-9ce2-4da84ca63567",
   "metadata": {},
   "outputs": [],
   "source": [
    "s1=\"Good morning\"\n",
    "s2=s1.replace(\"Good\",\"Bad\")"
   ]
  },
  {
   "cell_type": "code",
   "execution_count": 121,
   "id": "a8079ca8-2e69-437c-a5f0-94323f95ca10",
   "metadata": {},
   "outputs": [
    {
     "name": "stdout",
     "output_type": "stream",
     "text": [
      "True\n",
      "True\n",
      "False\n",
      "False\n",
      "False\n",
      "True\n",
      "False\n",
      "False\n",
      "False\n"
     ]
    }
   ],
   "source": [
    "my_str='batman'\n",
    "\n",
    "print(my_str.isalnum())\n",
    "print(my_str.isalpha())\n",
    "print(my_str.isdigit())\n",
    "print(my_str.istitle())\n",
    "print(my_str.isupper())\n",
    "print(my_str.islower())\n",
    "print(my_str.isspace())\n",
    "print(my_str.endswith('s'))\n",
    "print(my_str.startswith('s'))"
   ]
  },
  {
   "cell_type": "code",
   "execution_count": null,
   "id": "fcb7c6e5-5631-47fd-b476-a3ddecb8f546",
   "metadata": {},
   "outputs": [],
   "source": []
  }
 ],
 "metadata": {
  "kernelspec": {
   "display_name": "Python 3 (ipykernel)",
   "language": "python",
   "name": "python3"
  },
  "language_info": {
   "codemirror_mode": {
    "name": "ipython",
    "version": 3
   },
   "file_extension": ".py",
   "mimetype": "text/x-python",
   "name": "python",
   "nbconvert_exporter": "python",
   "pygments_lexer": "ipython3",
   "version": "3.11.7"
  }
 },
 "nbformat": 4,
 "nbformat_minor": 5
}
