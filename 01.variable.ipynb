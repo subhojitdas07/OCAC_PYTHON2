{
 "cells": [
  {
   "cell_type": "code",
   "execution_count": 4,
   "id": "b7891982-77e9-41de-b503-99fa6176f420",
   "metadata": {},
   "outputs": [
    {
     "data": {
      "text/plain": [
       "'banty'"
      ]
     },
     "execution_count": 4,
     "metadata": {},
     "output_type": "execute_result"
    }
   ],
   "source": [
    "c='banty'\n",
    "c"
   ]
  },
  {
   "cell_type": "code",
   "execution_count": 6,
   "id": "f7cff48f-e42f-4242-89aa-b1e5fcfc56e3",
   "metadata": {},
   "outputs": [
    {
     "data": {
      "text/plain": [
       "100"
      ]
     },
     "execution_count": 6,
     "metadata": {},
     "output_type": "execute_result"
    }
   ],
   "source": [
    "a = 100\n",
    "a"
   ]
  },
  {
   "cell_type": "code",
   "execution_count": 7,
   "id": "72c10223-1f90-4851-9005-c13695435e8f",
   "metadata": {},
   "outputs": [
    {
     "data": {
      "text/plain": [
       "int"
      ]
     },
     "execution_count": 7,
     "metadata": {},
     "output_type": "execute_result"
    }
   ],
   "source": [
    "type(a)"
   ]
  },
  {
   "cell_type": "code",
   "execution_count": 8,
   "id": "d50cfd0f-abae-4525-b856-cd5af3870ce2",
   "metadata": {},
   "outputs": [
    {
     "ename": "NameError",
     "evalue": "name 'b' is not defined",
     "output_type": "error",
     "traceback": [
      "\u001b[1;31m---------------------------------------------------------------------------\u001b[0m",
      "\u001b[1;31mNameError\u001b[0m                                 Traceback (most recent call last)",
      "Cell \u001b[1;32mIn[8], line 1\u001b[0m\n\u001b[1;32m----> 1\u001b[0m \u001b[38;5;28mtype\u001b[39m(b)\n",
      "\u001b[1;31mNameError\u001b[0m: name 'b' is not defined"
     ]
    }
   ],
   "source": [
    "type(b)"
   ]
  },
  {
   "cell_type": "code",
   "execution_count": 10,
   "id": "00738742-de0f-4e11-9b8b-e645e040ec2a",
   "metadata": {},
   "outputs": [
    {
     "data": {
      "text/plain": [
       "' abit'"
      ]
     },
     "execution_count": 10,
     "metadata": {},
     "output_type": "execute_result"
    }
   ],
   "source": [
    "b =' abit'\n",
    "b"
   ]
  },
  {
   "cell_type": "code",
   "execution_count": 12,
   "id": "cfce93d2-185e-4801-b652-8b8db5c7ee24",
   "metadata": {},
   "outputs": [
    {
     "data": {
      "text/plain": [
       "110"
      ]
     },
     "execution_count": 12,
     "metadata": {},
     "output_type": "execute_result"
    }
   ],
   "source": [
    "ib = 110\n",
    "ib"
   ]
  },
  {
   "cell_type": "code",
   "execution_count": 13,
   "id": "2882831a-ed62-4591-900f-d8b7b41961a3",
   "metadata": {},
   "outputs": [
    {
     "data": {
      "text/plain": [
       "'70'"
      ]
     },
     "execution_count": 13,
     "metadata": {},
     "output_type": "execute_result"
    }
   ],
   "source": [
    "c = \"70\"\n",
    "c"
   ]
  },
  {
   "cell_type": "code",
   "execution_count": 14,
   "id": "983c33d6-ada1-44c0-a6e6-4640d8df37da",
   "metadata": {},
   "outputs": [
    {
     "data": {
      "text/plain": [
       "str"
      ]
     },
     "execution_count": 14,
     "metadata": {},
     "output_type": "execute_result"
    }
   ],
   "source": [
    "type(c)"
   ]
  },
  {
   "cell_type": "code",
   "execution_count": 15,
   "id": "f769f850-f783-426e-9b4b-179ccc2ba2f4",
   "metadata": {},
   "outputs": [
    {
     "data": {
      "text/plain": [
       "'40a'"
      ]
     },
     "execution_count": 15,
     "metadata": {},
     "output_type": "execute_result"
    }
   ],
   "source": [
    "cd = \"40a\"\n",
    "cd"
   ]
  },
  {
   "cell_type": "code",
   "execution_count": 16,
   "id": "ab3e9a84-0e71-459a-ba03-b81b6774b065",
   "metadata": {},
   "outputs": [
    {
     "data": {
      "text/plain": [
       "str"
      ]
     },
     "execution_count": 16,
     "metadata": {},
     "output_type": "execute_result"
    }
   ],
   "source": [
    "type(cd)"
   ]
  },
  {
   "cell_type": "code",
   "execution_count": 17,
   "id": "b1463ffb-ce5c-4155-ad2a-341a53b66e44",
   "metadata": {},
   "outputs": [
    {
     "name": "stdout",
     "output_type": "stream",
     "text": [
      "['False', 'None', 'True', 'and', 'as', 'assert', 'async', 'await', 'break', 'class', 'continue', 'def', 'del', 'elif', 'else', 'except', 'finally', 'for', 'from', 'global', 'if', 'import', 'in', 'is', 'lambda', 'nonlocal', 'not', 'or', 'pass', 'raise', 'return', 'try', 'while', 'with', 'yield']\n"
     ]
    }
   ],
   "source": [
    "import keyword\n",
    "print(keyword.kwlist)"
   ]
  },
  {
   "cell_type": "code",
   "execution_count": 18,
   "id": "8bc75db3-9f0c-4d59-b423-ce927d8a5715",
   "metadata": {},
   "outputs": [
    {
     "data": {
      "text/plain": [
       "35"
      ]
     },
     "execution_count": 18,
     "metadata": {},
     "output_type": "execute_result"
    }
   ],
   "source": [
    "len(keyword.kwlist)"
   ]
  },
  {
   "cell_type": "code",
   "execution_count": 19,
   "id": "3b86c0ba-a75f-4529-8a39-cc5f0d3d07ab",
   "metadata": {},
   "outputs": [
    {
     "ename": "SyntaxError",
     "evalue": "cannot assign to False (3627396313.py, line 1)",
     "output_type": "error",
     "traceback": [
      "\u001b[1;36m  Cell \u001b[1;32mIn[19], line 1\u001b[1;36m\u001b[0m\n\u001b[1;33m    False = \"9563\"\u001b[0m\n\u001b[1;37m    ^\u001b[0m\n\u001b[1;31mSyntaxError\u001b[0m\u001b[1;31m:\u001b[0m cannot assign to False\n"
     ]
    }
   ],
   "source": [
    "False = \"9563\"\n",
    "False"
   ]
  },
  {
   "cell_type": "code",
   "execution_count": 20,
   "id": "81ad3189-eaf3-4926-878d-ddec22d46ca3",
   "metadata": {},
   "outputs": [
    {
     "data": {
      "text/plain": [
       "40"
      ]
     },
     "execution_count": 20,
     "metadata": {},
     "output_type": "execute_result"
    }
   ],
   "source": [
    "a1 = 40\n",
    "a1"
   ]
  },
  {
   "cell_type": "code",
   "execution_count": 21,
   "id": "08c3005f-6254-4945-af5f-f7c021c5bd4e",
   "metadata": {},
   "outputs": [
    {
     "ename": "SyntaxError",
     "evalue": "invalid decimal literal (1503323740.py, line 1)",
     "output_type": "error",
     "traceback": [
      "\u001b[1;36m  Cell \u001b[1;32mIn[21], line 1\u001b[1;36m\u001b[0m\n\u001b[1;33m    1b = 80\u001b[0m\n\u001b[1;37m    ^\u001b[0m\n\u001b[1;31mSyntaxError\u001b[0m\u001b[1;31m:\u001b[0m invalid decimal literal\n"
     ]
    }
   ],
   "source": [
    "1b = 80\n",
    "1b"
   ]
  },
  {
   "cell_type": "code",
   "execution_count": 22,
   "id": "58c68baf-75ae-4f7f-a5aa-a40e0bfebf3e",
   "metadata": {},
   "outputs": [
    {
     "ename": "SyntaxError",
     "evalue": "invalid decimal literal (2318791281.py, line 1)",
     "output_type": "error",
     "traceback": [
      "\u001b[1;36m  Cell \u001b[1;32mIn[22], line 1\u001b[1;36m\u001b[0m\n\u001b[1;33m    1b = 70\u001b[0m\n\u001b[1;37m    ^\u001b[0m\n\u001b[1;31mSyntaxError\u001b[0m\u001b[1;31m:\u001b[0m invalid decimal literal\n"
     ]
    }
   ],
   "source": [
    "1b = 70\n",
    "1b"
   ]
  },
  {
   "cell_type": "code",
   "execution_count": 23,
   "id": "23884225-c097-46d4-b3e5-a803dae1c7b0",
   "metadata": {},
   "outputs": [
    {
     "data": {
      "text/plain": [
       "503"
      ]
     },
     "execution_count": 23,
     "metadata": {},
     "output_type": "execute_result"
    }
   ],
   "source": [
    "b_6 = 503\n",
    "b_6"
   ]
  },
  {
   "cell_type": "code",
   "execution_count": 24,
   "id": "7c59a2cf-04c0-42a6-afeb-102cf7d1a727",
   "metadata": {},
   "outputs": [
    {
     "data": {
      "text/plain": [
       "2134547549904"
      ]
     },
     "execution_count": 24,
     "metadata": {},
     "output_type": "execute_result"
    }
   ],
   "source": [
    "#Storagelocation\n",
    "id(b_6)"
   ]
  },
  {
   "cell_type": "code",
   "execution_count": 25,
   "id": "29707165-36dd-4a43-8dbf-dcbf8738594e",
   "metadata": {},
   "outputs": [
    {
     "data": {
      "text/plain": [
       "2134547549936"
      ]
     },
     "execution_count": 25,
     "metadata": {},
     "output_type": "execute_result"
    }
   ],
   "source": [
    "v = 503\n",
    "v\n",
    "id(v)"
   ]
  },
  {
   "cell_type": "code",
   "execution_count": 26,
   "id": "130cd8c5-ea68-4f63-bf51-4e42e8093161",
   "metadata": {},
   "outputs": [
    {
     "data": {
      "text/plain": [
       "2134547549616"
      ]
     },
     "execution_count": 26,
     "metadata": {},
     "output_type": "execute_result"
    }
   ],
   "source": [
    "v = 503\n",
    "id(v)"
   ]
  },
  {
   "cell_type": "code",
   "execution_count": 27,
   "id": "e88908f2-eeaf-4f33-86b5-eddc48e394e2",
   "metadata": {},
   "outputs": [
    {
     "data": {
      "text/plain": [
       "140709200711144"
      ]
     },
     "execution_count": 27,
     "metadata": {},
     "output_type": "execute_result"
    }
   ],
   "source": [
    "b = 87\n",
    "c = 86\n",
    "id(b)"
   ]
  },
  {
   "cell_type": "code",
   "execution_count": 28,
   "id": "0d78dcc0-e9dc-4a9c-84b2-72bfd52ad778",
   "metadata": {},
   "outputs": [
    {
     "data": {
      "text/plain": [
       "140709200711112"
      ]
     },
     "execution_count": 28,
     "metadata": {},
     "output_type": "execute_result"
    }
   ],
   "source": [
    "id(c)"
   ]
  },
  {
   "cell_type": "code",
   "execution_count": 30,
   "id": "96cd0296-92dd-478a-851e-fcbdb51d99b9",
   "metadata": {},
   "outputs": [
    {
     "data": {
      "text/plain": [
       "140709200711144"
      ]
     },
     "execution_count": 30,
     "metadata": {},
     "output_type": "execute_result"
    }
   ],
   "source": [
    "d = 87\n",
    "id(d)"
   ]
  },
  {
   "cell_type": "code",
   "execution_count": 31,
   "id": "50f9e12a-e49f-4c39-9636-db17a6bc96fd",
   "metadata": {},
   "outputs": [
    {
     "data": {
      "text/plain": [
       "140709200710056"
      ]
     },
     "execution_count": 31,
     "metadata": {},
     "output_type": "execute_result"
    }
   ],
   "source": [
    "d = 53\n",
    "id(d)"
   ]
  },
  {
   "cell_type": "code",
   "execution_count": 32,
   "id": "f118f602-1fe1-4eb0-8101-be7d0640fb00",
   "metadata": {},
   "outputs": [
    {
     "name": "stdout",
     "output_type": "stream",
     "text": [
      "The summation of two numbers are  43\n"
     ]
    }
   ],
   "source": [
    "a = 11\n",
    "b = 32\n",
    "sum = a+b\n",
    "print(\"The summation of two numbers are \",sum)"
   ]
  },
  {
   "cell_type": "code",
   "execution_count": 36,
   "id": "bb9aa8d8-77cb-4cb7-b675-491ec34739cb",
   "metadata": {},
   "outputs": [
    {
     "name": "stdout",
     "output_type": "stream",
     "text": [
      "The summation of two numbers are sum 41\n"
     ]
    }
   ],
   "source": [
    "a = 10\n",
    "b = 31\n",
    "sum= a+b\n",
    "print(\"The summation of two numbers are sum\", sum)"
   ]
  },
  {
   "cell_type": "code",
   "execution_count": 37,
   "id": "7f8e6950-867f-4545-93f2-9cfdc8d01032",
   "metadata": {},
   "outputs": [
    {
     "data": {
      "text/plain": [
       "('The summation of two numbers are', 41)"
      ]
     },
     "execution_count": 37,
     "metadata": {},
     "output_type": "execute_result"
    }
   ],
   "source": [
    "\"The summation of two numbers are\",sum"
   ]
  },
  {
   "cell_type": "code",
   "execution_count": 38,
   "id": "b4895ddb-63bc-4208-ae59-f160603ec14d",
   "metadata": {},
   "outputs": [
    {
     "data": {
      "text/plain": [
       "41"
      ]
     },
     "execution_count": 38,
     "metadata": {},
     "output_type": "execute_result"
    }
   ],
   "source": [
    "sum"
   ]
  },
  {
   "cell_type": "code",
   "execution_count": 39,
   "id": "bb619e72-8507-4979-bac0-d9813dc8e16b",
   "metadata": {},
   "outputs": [
    {
     "data": {
      "text/plain": [
       "9"
      ]
     },
     "execution_count": 39,
     "metadata": {},
     "output_type": "execute_result"
    }
   ],
   "source": [
    "a = b =c = 9\n",
    "a"
   ]
  },
  {
   "cell_type": "code",
   "execution_count": 40,
   "id": "7098962d-cf0d-4faf-9e61-650884d4f248",
   "metadata": {},
   "outputs": [
    {
     "data": {
      "text/plain": [
       "9"
      ]
     },
     "execution_count": 40,
     "metadata": {},
     "output_type": "execute_result"
    }
   ],
   "source": [
    "b"
   ]
  },
  {
   "cell_type": "code",
   "execution_count": 41,
   "id": "8061d071-455b-4362-bf37-54001f97cc24",
   "metadata": {},
   "outputs": [
    {
     "data": {
      "text/plain": [
       "9"
      ]
     },
     "execution_count": 41,
     "metadata": {},
     "output_type": "execute_result"
    }
   ],
   "source": [
    "c"
   ]
  },
  {
   "cell_type": "code",
   "execution_count": 42,
   "id": "f973e25d-6d97-4637-83dc-903851168ceb",
   "metadata": {},
   "outputs": [
    {
     "name": "stdout",
     "output_type": "stream",
     "text": [
      "88 66 44\n"
     ]
    }
   ],
   "source": [
    "a= 88\n",
    "b = 66\n",
    "c = 44\n",
    "abc = 87\n",
    "print(a,b,c)"
   ]
  },
  {
   "cell_type": "code",
   "execution_count": 43,
   "id": "a5a61779-b3bd-46b0-8ae7-26054c3bb699",
   "metadata": {},
   "outputs": [
    {
     "name": "stdout",
     "output_type": "stream",
     "text": [
      "87\n"
     ]
    }
   ],
   "source": [
    "print(abc)"
   ]
  },
  {
   "cell_type": "code",
   "execution_count": 44,
   "id": "8f78bc09-8bdc-404b-a4a7-e17bb134ec28",
   "metadata": {},
   "outputs": [
    {
     "name": "stdout",
     "output_type": "stream",
     "text": [
      "67\n"
     ]
    }
   ],
   "source": [
    "a = 67\n",
    "print(a)"
   ]
  },
  {
   "cell_type": "code",
   "execution_count": 45,
   "id": "f00ca3eb-7779-493e-9722-641ab7017e4b",
   "metadata": {},
   "outputs": [],
   "source": [
    "#Delete Element\n",
    "del(a)"
   ]
  },
  {
   "cell_type": "code",
   "execution_count": 46,
   "id": "4389e671-af43-420d-9d08-ef3d1c32b79b",
   "metadata": {},
   "outputs": [
    {
     "ename": "NameError",
     "evalue": "name 'a' is not defined",
     "output_type": "error",
     "traceback": [
      "\u001b[1;31m---------------------------------------------------------------------------\u001b[0m",
      "\u001b[1;31mNameError\u001b[0m                                 Traceback (most recent call last)",
      "Cell \u001b[1;32mIn[46], line 1\u001b[0m\n\u001b[1;32m----> 1\u001b[0m \u001b[38;5;28mprint\u001b[39m(a)\n",
      "\u001b[1;31mNameError\u001b[0m: name 'a' is not defined"
     ]
    }
   ],
   "source": [
    "print(a)"
   ]
  },
  {
   "cell_type": "code",
   "execution_count": 47,
   "id": "e73912e2-c7d2-48b6-9b8d-d4a7be3f101e",
   "metadata": {},
   "outputs": [],
   "source": [
    "# to c Lear van ab L e expL orer.\n",
    "a=11\n",
    "b=21\n",
    "c=31\n",
    "del a,b"
   ]
  },
  {
   "cell_type": "code",
   "execution_count": 48,
   "id": "e553857c-6304-4be3-9d44-cd0f73a4fc13",
   "metadata": {},
   "outputs": [
    {
     "name": "stdout",
     "output_type": "stream",
     "text": [
      "31\n"
     ]
    }
   ],
   "source": [
    "print(c)"
   ]
  },
  {
   "cell_type": "code",
   "execution_count": 49,
   "id": "9ff5654d-d8f7-406c-a349-b388d6be22c4",
   "metadata": {},
   "outputs": [
    {
     "ename": "SyntaxError",
     "evalue": "invalid decimal literal (2599538019.py, line 1)",
     "output_type": "error",
     "traceback": [
      "\u001b[1;36m  Cell \u001b[1;32mIn[49], line 1\u001b[1;36m\u001b[0m\n\u001b[1;33m    1a= 51\u001b[0m\n\u001b[1;37m    ^\u001b[0m\n\u001b[1;31mSyntaxError\u001b[0m\u001b[1;31m:\u001b[0m invalid decimal literal\n"
     ]
    }
   ],
   "source": [
    "1a= 51"
   ]
  },
  {
   "cell_type": "code",
   "execution_count": 50,
   "id": "a0af24cb-55fd-4cee-8016-865bbb878cbb",
   "metadata": {},
   "outputs": [
    {
     "ename": "SyntaxError",
     "evalue": "cannot assign to expression here. Maybe you meant '==' instead of '='? (3805371380.py, line 1)",
     "output_type": "error",
     "traceback": [
      "\u001b[1;36m  Cell \u001b[1;32mIn[50], line 1\u001b[1;36m\u001b[0m\n\u001b[1;33m    a@1= 71\u001b[0m\n\u001b[1;37m    ^\u001b[0m\n\u001b[1;31mSyntaxError\u001b[0m\u001b[1;31m:\u001b[0m cannot assign to expression here. Maybe you meant '==' instead of '='?\n"
     ]
    }
   ],
   "source": [
    "a@1= 71"
   ]
  },
  {
   "cell_type": "code",
   "execution_count": 51,
   "id": "607f2544-45a9-48c2-a49f-6890de4e90c1",
   "metadata": {},
   "outputs": [
    {
     "name": "stdout",
     "output_type": "stream",
     "text": [
      "11 22 33\n"
     ]
    }
   ],
   "source": [
    "a=11\n",
    "b=22\n",
    "c=33\n",
    "print(a,b,c)"
   ]
  },
  {
   "cell_type": "code",
   "execution_count": 52,
   "id": "c619e703-2048-4c7a-a500-876259df73f7",
   "metadata": {},
   "outputs": [
    {
     "name": "stdout",
     "output_type": "stream",
     "text": [
      "11 22 33\n"
     ]
    }
   ],
   "source": [
    "# we can as ss ign /r u L tipLe van ab Les in a s i ngL e L One\n",
    "a,b,c = 11,22,33\n",
    "print(a,b,c)"
   ]
  },
  {
   "cell_type": "code",
   "execution_count": 53,
   "id": "3579fae9-aa7f-4f5e-bcbe-999b34274f00",
   "metadata": {},
   "outputs": [
    {
     "name": "stdout",
     "output_type": "stream",
     "text": [
      "AI\n"
     ]
    }
   ],
   "source": [
    "# as s ign the same vaL ue to /r uL tip Le var i ab Les at once\n",
    "a = b = c = \"AI\"\n",
    "print(c)"
   ]
  },
  {
   "cell_type": "code",
   "execution_count": null,
   "id": "b89ebabc-083a-4080-b024-25abc752870f",
   "metadata": {},
   "outputs": [],
   "source": []
  }
 ],
 "metadata": {
  "kernelspec": {
   "display_name": "Python 3 (ipykernel)",
   "language": "python",
   "name": "python3"
  },
  "language_info": {
   "codemirror_mode": {
    "name": "ipython",
    "version": 3
   },
   "file_extension": ".py",
   "mimetype": "text/x-python",
   "name": "python",
   "nbconvert_exporter": "python",
   "pygments_lexer": "ipython3",
   "version": "3.11.7"
  }
 },
 "nbformat": 4,
 "nbformat_minor": 5
}
