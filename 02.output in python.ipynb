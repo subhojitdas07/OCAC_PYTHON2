{
 "cells": [
  {
   "cell_type": "code",
   "execution_count": 1,
   "id": "f37da77c-3765-49be-9ba1-52351770cd8d",
   "metadata": {},
   "outputs": [
    {
     "name": "stdout",
     "output_type": "stream",
     "text": [
      "3\n"
     ]
    }
   ],
   "source": [
    "print(3)"
   ]
  },
  {
   "cell_type": "code",
   "execution_count": 2,
   "id": "9d6c790c-d353-4d2f-815c-aa3bb39301e8",
   "metadata": {},
   "outputs": [
    {
     "name": "stdout",
     "output_type": "stream",
     "text": [
      "abit\n"
     ]
    }
   ],
   "source": [
    "print(\"abit\")"
   ]
  },
  {
   "cell_type": "code",
   "execution_count": 3,
   "id": "6f637257-8f33-4643-b451-59a4db3805a9",
   "metadata": {},
   "outputs": [
    {
     "name": "stdout",
     "output_type": "stream",
     "text": [
      "batman\n"
     ]
    }
   ],
   "source": [
    "print(\"batman\")"
   ]
  },
  {
   "cell_type": "code",
   "execution_count": 4,
   "id": "9571f3da-ba5d-489a-93cc-91d650d273f5",
   "metadata": {},
   "outputs": [
    {
     "name": "stdout",
     "output_type": "stream",
     "text": [
      "30\n"
     ]
    }
   ],
   "source": [
    "b=30\n",
    "print(b)"
   ]
  },
  {
   "cell_type": "code",
   "execution_count": 5,
   "id": "ab614b4c-7112-47e7-a940-1c40854c4a95",
   "metadata": {},
   "outputs": [
    {
     "name": "stdout",
     "output_type": "stream",
     "text": [
      "20\n"
     ]
    }
   ],
   "source": [
    "ashu=20\n",
    "print(ashu)"
   ]
  },
  {
   "cell_type": "code",
   "execution_count": 6,
   "id": "8f5fab06-59f7-4321-adb8-c18e32292022",
   "metadata": {},
   "outputs": [
    {
     "name": "stdout",
     "output_type": "stream",
     "text": [
      "batman\n"
     ]
    }
   ],
   "source": [
    "print(\"batman\")"
   ]
  },
  {
   "cell_type": "code",
   "execution_count": 7,
   "id": "893416a7-1aef-4be3-b282-e3e104296fc0",
   "metadata": {},
   "outputs": [
    {
     "name": "stdout",
     "output_type": "stream",
     "text": [
      "11 22 44 23\n"
     ]
    }
   ],
   "source": [
    "a=11\n",
    "b=22\n",
    "c=44\n",
    "d=23\n",
    "print(a,b,c,d)"
   ]
  },
  {
   "cell_type": "code",
   "execution_count": 8,
   "id": "7b98be51-1749-424e-8897-ad7b090374f3",
   "metadata": {},
   "outputs": [
    {
     "name": "stdout",
     "output_type": "stream",
     "text": [
      "3\n"
     ]
    },
    {
     "data": {
      "text/plain": [
       "int"
      ]
     },
     "execution_count": 8,
     "metadata": {},
     "output_type": "execute_result"
    }
   ],
   "source": [
    "a=3\n",
    "print(a)\n",
    "type(a)"
   ]
  },
  {
   "cell_type": "code",
   "execution_count": 9,
   "id": "9d9ae0bf-62a8-4554-b082-8c2743d1e435",
   "metadata": {},
   "outputs": [
    {
     "name": "stdout",
     "output_type": "stream",
     "text": [
      "1\n"
     ]
    },
    {
     "data": {
      "text/plain": [
       "str"
      ]
     },
     "execution_count": 9,
     "metadata": {},
     "output_type": "execute_result"
    }
   ],
   "source": [
    "a='1'\n",
    "print(a)\n",
    "type(a)"
   ]
  },
  {
   "cell_type": "code",
   "execution_count": 10,
   "id": "d9cd7c3e-d272-4181-9c6c-7343aa3dd4be",
   "metadata": {},
   "outputs": [
    {
     "name": "stdout",
     "output_type": "stream",
     "text": [
      "33\n"
     ]
    }
   ],
   "source": [
    "a=11\n",
    "b=22\n",
    "c=a+b\n",
    "print(c)"
   ]
  },
  {
   "cell_type": "code",
   "execution_count": 11,
   "id": "e9167fb1-de07-424e-bd28-8219d4011f64",
   "metadata": {},
   "outputs": [
    {
     "name": "stdout",
     "output_type": "stream",
     "text": [
      "44\n"
     ]
    }
   ],
   "source": [
    "a=11\n",
    "b=33\n",
    "print(a+b)"
   ]
  },
  {
   "cell_type": "code",
   "execution_count": 12,
   "id": "7198cb6d-86d4-4700-a9b0-bb3f3feaaaa8",
   "metadata": {},
   "outputs": [
    {
     "name": "stdout",
     "output_type": "stream",
     "text": [
      "33\n"
     ]
    }
   ],
   "source": [
    "print(11+22)"
   ]
  },
  {
   "cell_type": "code",
   "execution_count": 13,
   "id": "df161e01-c66a-4249-a401-3608c2828886",
   "metadata": {},
   "outputs": [
    {
     "name": "stdout",
     "output_type": "stream",
     "text": [
      "11 323 53 35\n"
     ]
    }
   ],
   "source": [
    "a=11\n",
    "b=323\n",
    "c=53\n",
    "d=35\n",
    "print(a,b,c,d)"
   ]
  },
  {
   "cell_type": "code",
   "execution_count": 14,
   "id": "d168c395-71de-4294-a047-e7d3ee97b8f9",
   "metadata": {},
   "outputs": [
    {
     "name": "stdout",
     "output_type": "stream",
     "text": [
      "11:323:53:35\n"
     ]
    }
   ],
   "source": [
    "a=11\n",
    "b=323\n",
    "c=53\n",
    "d=35\n",
    "print(a,b,c,d,sep=\":\")"
   ]
  },
  {
   "cell_type": "code",
   "execution_count": 15,
   "id": "26537897-3ed1-40de-b550-3f5f3ab6d47b",
   "metadata": {},
   "outputs": [
    {
     "name": "stdout",
     "output_type": "stream",
     "text": [
      "the value of a :  44\n"
     ]
    }
   ],
   "source": [
    "a=44\n",
    "print(\"the value of a : \",a)"
   ]
  },
  {
   "cell_type": "code",
   "execution_count": 16,
   "id": "fdbb579a-dc61-4070-95ac-b6c714a847b0",
   "metadata": {},
   "outputs": [],
   "source": [
    "first_name='batman'\n",
    "last_name='intel'"
   ]
  },
  {
   "cell_type": "code",
   "execution_count": 17,
   "id": "a0f01906-a35f-43f2-9e7e-1ed60459e5b2",
   "metadata": {},
   "outputs": [
    {
     "name": "stdout",
     "output_type": "stream",
     "text": [
      "name intel batman\n"
     ]
    }
   ],
   "source": [
    "print(\"name\",last_name,first_name)"
   ]
  },
  {
   "cell_type": "code",
   "execution_count": 18,
   "id": "a0c94537-3fe1-403c-879c-2d9e0103fc57",
   "metadata": {},
   "outputs": [
    {
     "name": "stdout",
     "output_type": "stream",
     "text": [
      "my first name is: batman and last name is: intel\n"
     ]
    }
   ],
   "source": [
    "print(\"my first name is:\",first_name,\"and last name is:\",last_name)"
   ]
  },
  {
   "cell_type": "code",
   "execution_count": 19,
   "id": "d39566c4-0432-4700-b575-62df93edf9ae",
   "metadata": {},
   "outputs": [
    {
     "name": "stdout",
     "output_type": "stream",
     "text": [
      "my first name is:batman and last name is: intel\n"
     ]
    }
   ],
   "source": [
    "print(\"my first name is:{} and last name is: {}\".format(first_name,last_name))"
   ]
  },
  {
   "cell_type": "code",
   "execution_count": 20,
   "id": "cee4ab5f-d8ce-496f-a285-1e5f31737615",
   "metadata": {},
   "outputs": [
    {
     "ename": "SyntaxError",
     "evalue": "invalid syntax (2065949560.py, line 1)",
     "output_type": "error",
     "traceback": [
      "\u001b[1;36m  Cell \u001b[1;32mIn[20], line 1\u001b[1;36m\u001b[0m\n\u001b[1;33m    print(\"my first name is: {first} and last name is:{first}\".format(last=last_name,first=last_name))s\u001b[0m\n\u001b[1;37m                                                                                                      ^\u001b[0m\n\u001b[1;31mSyntaxError\u001b[0m\u001b[1;31m:\u001b[0m invalid syntax\n"
     ]
    }
   ],
   "source": [
    "print(\"my first name is: {first} and last name is:{first}\".format(last=last_name,first=last_name))s"
   ]
  },
  {
   "cell_type": "code",
   "execution_count": null,
   "id": "318756a1-3d74-4c26-835d-541851b71130",
   "metadata": {},
   "outputs": [],
   "source": [
    "print(\"Hello {name} {greeting} {name}\".format(name=\"batman\",greeting=\"good morning\"))"
   ]
  },
  {
   "cell_type": "code",
   "execution_count": null,
   "id": "1c013925-1d0e-4d06-9c73-330c941d0d06",
   "metadata": {},
   "outputs": [],
   "source": [
    "print('the story of{},{},and{other}'.format('superman','thor',other=' madmax'))"
   ]
  },
  {
   "cell_type": "code",
   "execution_count": null,
   "id": "ce35e4dc-147e-4338-ad0f-f14df433f37f",
   "metadata": {},
   "outputs": [],
   "source": [
    "num=13\n",
    "name='bat'\n",
    "print('My number is: {one} and my name is:{two}'.format(one=num,two+name))\n",
    "print('My number is:{} and name is: {}'.format(num,name))\n",
    "print(\"My number is:\",num,\"and my name is:\",name)"
   ]
  }
 ],
 "metadata": {
  "kernelspec": {
   "display_name": "Python 3 (ipykernel)",
   "language": "python",
   "name": "python3"
  },
  "language_info": {
   "codemirror_mode": {
    "name": "ipython",
    "version": 3
   },
   "file_extension": ".py",
   "mimetype": "text/x-python",
   "name": "python",
   "nbconvert_exporter": "python",
   "pygments_lexer": "ipython3",
   "version": "3.11.7"
  }
 },
 "nbformat": 4,
 "nbformat_minor": 5
}
